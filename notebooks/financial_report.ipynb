{
 "cells": [
  {
   "cell_type": "code",
   "execution_count": 1,
   "metadata": {},
   "outputs": [
    {
     "name": "stdout",
     "output_type": "stream",
     "text": [
      "Collection test already exists!\n"
     ]
    },
    {
     "name": "stderr",
     "output_type": "stream",
     "text": [
      "/media/rosario/DATA/venvs/crewai-downgrade/lib/python3.10/site-packages/langchain_core/_api/deprecation.py:139: LangChainDeprecationWarning: The class `Qdrant` was deprecated in LangChain 0.0.37 and will be removed in 0.3.0. An updated version of the class exists in the langchain-qdrant package and should be used instead. To use it run `pip install -U langchain-qdrant` and import as `from langchain_qdrant import Qdrant`.\n",
      "  warn_deprecated(\n",
      "2024-10-25 17:01:01,072 - 134532364042240 - __init__.py-__init__:538 - WARNING: Overriding of current TracerProvider is not allowed\n"
     ]
    }
   ],
   "source": [
    "import sys\n",
    "sys.path.append('..')\n",
    "import os\n",
    "from crewai_kit.crews import financial_crew"
   ]
  },
  {
   "cell_type": "code",
   "execution_count": null,
   "metadata": {},
   "outputs": [
    {
     "name": "stdout",
     "output_type": "stream",
     "text": [
      "\u001b[1m\u001b[95m [2024-10-25 17:01:01][DEBUG]: == Working Agent: Lead Financial Analyst\u001b[00m\n",
      "\u001b[1m\u001b[95m [2024-10-25 17:01:01][INFO]: == Starting Task: Conduct a comprehensive analysis of Infosys's use of artificial intelligence in their integrated annual report 2022-23.\u001b[00m\n",
      "\n",
      "\n",
      "\u001b[1m> Entering new CrewAgentExecutor chain...\u001b[0m\n",
      "\u001b[32;1m\u001b[1;3mThought: I need to start by gathering information about Infosys's use of artificial intelligence in their integrated annual report 2022-23.\n",
      "\n",
      "Action: retrieval_rag_tool\n",
      "\n",
      "Action Input: {'query': 'Infosys AI integrated annual report 2022-23'}\n",
      "\u001b[0m\u001b[91m \n",
      "\n",
      "I encountered an error while trying to use the tool. This was the error: StructuredTool._run() missing 1 required keyword-only argument: 'config'.\n",
      " Tool retrieval_rag_tool accepts these inputs: retrieval_rag_tool(query: 'string') - This tools return informations about Infosys .\n",
      "\u001b[00m\n",
      "\u001b[32;1m\u001b[1;3mThought: I need to start by gathering information about Infosys's use of artificial intelligence in their integrated annual report 2022-23.\n",
      "\n",
      "Action: retrieval_rag_tool\n",
      "\n",
      "Action Input: {'query': 'Infosys AI integrated annual report 2022-23'}\n",
      "\u001b[0m\u001b[91m \n",
      "\n",
      "I encountered an error while trying to use the tool. This was the error: StructuredTool._run() missing 1 required keyword-only argument: 'config'.\n",
      " Tool retrieval_rag_tool accepts these inputs: retrieval_rag_tool(query: 'string') - This tools return informations about Infosys .\n",
      "\u001b[00m\n",
      "\u001b[32;1m\u001b[1;3mThought: I need to start by gathering information about Infosys's use of artificial intelligence in their integrated annual report 2022-23.\n",
      "\n",
      "Action: retrieval_rag_tool\n",
      "\n",
      "Action Input: {'query': 'Infosys AI integrated annual report 2022-23'}\n",
      "\u001b[0m\u001b[91m \n",
      "\n",
      "I encountered an error while trying to use the tool. This was the error: StructuredTool._run() missing 1 required keyword-only argument: 'config'.\n",
      " Tool retrieval_rag_tool accepts these inputs: retrieval_rag_tool(query: 'string') - This tools return informations about Infosys .\n",
      "\u001b[00m\n"
     ]
    }
   ],
   "source": [
    "result = financial_crew.kickoff()"
   ]
  },
  {
   "cell_type": "code",
   "execution_count": null,
   "metadata": {},
   "outputs": [],
   "source": []
  }
 ],
 "metadata": {
  "kernelspec": {
   "display_name": "crewai-downgrade",
   "language": "python",
   "name": "python3"
  },
  "language_info": {
   "codemirror_mode": {
    "name": "ipython",
    "version": 3
   },
   "file_extension": ".py",
   "mimetype": "text/x-python",
   "name": "python",
   "nbconvert_exporter": "python",
   "pygments_lexer": "ipython3",
   "version": "3.10.12"
  }
 },
 "nbformat": 4,
 "nbformat_minor": 2
}
