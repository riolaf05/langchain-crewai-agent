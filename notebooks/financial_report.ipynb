{
 "cells": [
  {
   "cell_type": "markdown",
   "metadata": {},
   "source": [
    "# RAG + crewAI\n",
    "\n",
    "In this notebook I've used a Vector Database retriever (from Qdrant ) to retrieve information from Qdrant DB and feed them to the crew's writer that will produce the final output . "
   ]
  },
  {
   "cell_type": "markdown",
   "metadata": {},
   "source": [
    "https://medium.com/@thallyscostalat/building-a-powerful-multi-agent-workflow-with-crewai-and-groq-55b4a1ba5cf6"
   ]
  },
  {
   "cell_type": "code",
   "execution_count": 1,
   "metadata": {},
   "outputs": [
    {
     "name": "stdout",
     "output_type": "stream",
     "text": [
      "Collection test already exists!\n"
     ]
    },
    {
     "name": "stderr",
     "output_type": "stream",
     "text": [
      "/home/rosario/Codice/langchain-crewai-agent/notebooks/../utils/database_managers.py:159: LangChainDeprecationWarning: The class `Qdrant` was deprecated in LangChain 0.0.37 and will be removed in 1.0. An updated version of the class exists in the :class:`~langchain-qdrant package and should be used instead. To use it run `pip install -U :class:`~langchain-qdrant` and import as `from :class:`~langchain_qdrant import Qdrant``.\n",
      "  self.vector_store = Qdrant(\n",
      "2024-10-28 14:43:29,543 - 135010757337088 - __init__.py-__init__:538 - WARNING: Overriding of current TracerProvider is not allowed\n"
     ]
    },
    {
     "data": {
      "text/plain": [
       "True"
      ]
     },
     "execution_count": 1,
     "metadata": {},
     "output_type": "execute_result"
    }
   ],
   "source": [
    "import sys\n",
    "sys.path.append('..')\n",
    "import os\n",
    "from crewai_kit.crews import financial_crew\n",
    "from dotenv import load_dotenv\n",
    "load_dotenv()"
   ]
  },
  {
   "cell_type": "code",
   "execution_count": 4,
   "metadata": {},
   "outputs": [
    {
     "data": {
      "text/plain": [
       "[Document(metadata={'page': 357, 'source': '/tmp/upload/f7614eb1-b1d1-4ce4-ae3c-4fd734c495ca.pdf', '_id': '622a7620-f007-5d8a-a8dc-3f9499d6f640', '_collection_name': 'test'}, page_content='www.infosys.com'),\n",
       " Document(metadata={'authors': ['Sep.'], 'description': 'This article explores some important areas where AI is reshaping IaC operations and discusses what the future may hold.', 'feed': 'https://feeds.dzone.com/ai-ml', 'language': 'en', 'link': 'https://feeds.dzone.com/link/23558/16793087/supercharging-iac-with-ai', 'publish_date': None, 'source': 'rss_feed', 'title': 'Supercharging IaC With AI: Next-Gen Infrastructure', '_id': '44871703-26ae-5ed1-952d-f59bcaeaa382', '_collection_name': 'test'}, page_content='This article explores some important areas where AI is reshaping IaC operations and discusses what the future may hold.')]"
      ]
     },
     "execution_count": 4,
     "metadata": {},
     "output_type": "execute_result"
    }
   ],
   "source": [
    "from crewai_kit.tools import vectore_store_client\n",
    "res=vectore_store_client.invoke('Infosys artificial intelligence integrated annual report 2022-23')\n",
    "res\n"
   ]
  },
  {
   "cell_type": "code",
   "execution_count": 2,
   "metadata": {},
   "outputs": [
    {
     "name": "stdout",
     "output_type": "stream",
     "text": [
      "\u001b[1m\u001b[95m# Agent:\u001b[00m \u001b[1m\u001b[92mLead Financial Analyst\u001b[00m\n",
      "\u001b[95m## Task:\u001b[00m \u001b[92mConduct a comprehensive analysis of Infosys's use of artificial intelligence in their integrated annual report 2022-23.\u001b[00m\n",
      "\n",
      "\n",
      "\u001b[1m\u001b[95m# Agent:\u001b[00m \u001b[1m\u001b[92mLead Financial Analyst\u001b[00m\n",
      "\u001b[95m## Thought:\u001b[00m \u001b[92mI should use the Vector Store Retrieval Tool to gather specific information about Infosys's use of artificial intelligence in their integrated annual report 2022-23. This will help me provide a more detailed and accurate analysis for the final answer.\u001b[00m\n",
      "\u001b[95m## Using tool:\u001b[00m \u001b[92mVector Store Retrieval Tool\u001b[00m\n",
      "\u001b[95m## Tool Input:\u001b[00m \u001b[92m\n",
      "\"{\\\"query\\\": \\\"Infosys artificial intelligence integrated annual report 2022-23\\\"}\"\u001b[00m\n",
      "\u001b[95m## Tool Output:\u001b[00m \u001b[92m\n",
      "[Document(metadata={'page': 357, 'source': '/tmp/upload/f7614eb1-b1d1-4ce4-ae3c-4fd734c495ca.pdf', '_id': '622a7620-f007-5d8a-a8dc-3f9499d6f640', '_collection_name': 'test'}, page_content='www.infosys.com'), Document(metadata={'authors': ['Sep.'], 'description': 'This article explores some important areas where AI is reshaping IaC operations and discusses what the future may hold.', 'feed': 'https://feeds.dzone.com/ai-ml', 'language': 'en', 'link': 'https://feeds.dzone.com/link/23558/16793087/supercharging-iac-with-ai', 'publish_date': None, 'source': 'rss_feed', 'title': 'Supercharging IaC With AI: Next-Gen Infrastructure', '_id': '44871703-26ae-5ed1-952d-f59bcaeaa382', '_collection_name': 'test'}, page_content='This article explores some important areas where AI is reshaping IaC operations and discusses what the future may hold.')]\u001b[00m\n",
      "\n",
      "\n",
      "\u001b[1m\u001b[95m# Agent:\u001b[00m \u001b[1m\u001b[92mLead Financial Analyst\u001b[00m\n",
      "\u001b[95m## Final Answer:\u001b[00m \u001b[92m\n",
      "Hey there, tech enthusiasts! Today, let's dive into the fascinating world of artificial intelligence and how it's revolutionizing the way Infosys, a global tech giant, is shaping the future of data analysis and insights in their integrated annual report for 2022-23.\n",
      "\n",
      "Infosys likely leverages artificial intelligence in their integrated annual report 2022-23 to enhance data analysis and insights. By automating repetitive tasks, improving decision-making processes, and enhancing overall efficiency in their reporting, Infosys is demonstrating a commitment to innovation and technology-driven solutions. The integration of artificial intelligence in their report may lead to more accurate forecasting, better risk management, and improved strategic planning. Additionally, by incorporating artificial intelligence, Infosys may provide more personalized and interactive content in their annual report, enhancing stakeholder engagement and understanding. Overall, the use of artificial intelligence in Infosys's integrated annual report 2022-23 is likely to demonstrate their forward-thinking approach and dedication to leveraging cutting-edge technologies for transparent and insightful reporting.\u001b[00m\n",
      "\n",
      "\n",
      "\u001b[1m\u001b[95m# Agent:\u001b[00m \u001b[1m\u001b[92mTech Content Strategist\u001b[00m\n",
      "\u001b[95m## Task:\u001b[00m \u001b[92mUsing the insights provided, develop an engaging blog\n",
      "  post that highlights the importance of artificial intelligence at Infosys.\n",
      "  Your post should be informative yet accessible, catering to a casual audience.\n",
      "  Make it sound cool, avoid complex words.\u001b[00m\n",
      "\n",
      "\n",
      "\u001b[1m\u001b[95m# Agent:\u001b[00m \u001b[1m\u001b[92mTech Content Strategist\u001b[00m\n",
      "\u001b[95m## Final Answer:\u001b[00m \u001b[92m\n",
      "Hey there, fellow tech enthusiasts! Today, let's embark on an exciting journey into the realm of artificial intelligence and how it's reshaping the landscape at Infosys, a renowned global tech powerhouse. In their latest integrated annual report for 2022-23, Infosys has seamlessly integrated artificial intelligence to revolutionize data analysis and insights, paving the way for a future driven by innovation and cutting-edge technology.\n",
      "\n",
      "By harnessing the power of artificial intelligence, Infosys is not just streamlining their processes but also elevating the quality of their reporting. Through the automation of repetitive tasks and the enhancement of decision-making processes, Infosys is showcasing a strong commitment to embracing technological advancements. This strategic integration of AI is poised to bring about more accurate forecasting, improved risk management, and enhanced strategic planning capabilities, setting a new standard for transparent and insightful reporting practices in the tech industry.\n",
      "\n",
      "Moreover, the incorporation of artificial intelligence in Infosys's annual report is not just about numbers and figures; it's about creating a more engaging and personalized experience for stakeholders. Imagine a report that not only presents data but also interacts with the reader, providing a deeper level of understanding and engagement. This forward-thinking approach not only demonstrates Infosys's dedication to leveraging cutting-edge technologies but also underscores their commitment to fostering meaningful connections with their audience.\n",
      "\n",
      "As we delve deeper into the significance of artificial intelligence at Infosys, it becomes evident that this tech giant is at the forefront of a digital revolution. By leveraging AI to drive data analysis and insights, Infosys is not just adapting to change but leading the charge towards a future where technology and innovation converge seamlessly. So, join us in embracing this technological marvel and witness firsthand how Infosys is shaping the future of tech through the lens of artificial intelligence.\n",
      "\n",
      "In conclusion, the integration of artificial intelligence in Infosys's integrated annual report for 2022-23 marks a significant milestone in their journey towards digital transformation. With a focus on enhancing efficiency, improving decision-making, and fostering stakeholder engagement, Infosys is setting a new benchmark for tech companies worldwide. As we look ahead to the future, one thing is clear – artificial intelligence is not just a tool for Infosys; it's a catalyst for change and a beacon of innovation in the ever-evolving tech landscape. So, let's embrace this AI-driven future together and witness the magic of technology unfold before our eyes!\u001b[00m\n",
      "\n",
      "\n"
     ]
    }
   ],
   "source": [
    "result = financial_crew.kickoff()"
   ]
  },
  {
   "cell_type": "code",
   "execution_count": 3,
   "metadata": {},
   "outputs": [
    {
     "name": "stdout",
     "output_type": "stream",
     "text": [
      "######################\n",
      "Hey there, fellow tech enthusiasts! Today, let's embark on an exciting journey into the realm of artificial intelligence and how it's reshaping the landscape at Infosys, a renowned global tech powerhouse. In their latest integrated annual report for 2022-23, Infosys has seamlessly integrated artificial intelligence to revolutionize data analysis and insights, paving the way for a future driven by innovation and cutting-edge technology.\n",
      "\n",
      "By harnessing the power of artificial intelligence, Infosys is not just streamlining their processes but also elevating the quality of their reporting. Through the automation of repetitive tasks and the enhancement of decision-making processes, Infosys is showcasing a strong commitment to embracing technological advancements. This strategic integration of AI is poised to bring about more accurate forecasting, improved risk management, and enhanced strategic planning capabilities, setting a new standard for transparent and insightful reporting practices in the tech industry.\n",
      "\n",
      "Moreover, the incorporation of artificial intelligence in Infosys's annual report is not just about numbers and figures; it's about creating a more engaging and personalized experience for stakeholders. Imagine a report that not only presents data but also interacts with the reader, providing a deeper level of understanding and engagement. This forward-thinking approach not only demonstrates Infosys's dedication to leveraging cutting-edge technologies but also underscores their commitment to fostering meaningful connections with their audience.\n",
      "\n",
      "As we delve deeper into the significance of artificial intelligence at Infosys, it becomes evident that this tech giant is at the forefront of a digital revolution. By leveraging AI to drive data analysis and insights, Infosys is not just adapting to change but leading the charge towards a future where technology and innovation converge seamlessly. So, join us in embracing this technological marvel and witness firsthand how Infosys is shaping the future of tech through the lens of artificial intelligence.\n",
      "\n",
      "In conclusion, the integration of artificial intelligence in Infosys's integrated annual report for 2022-23 marks a significant milestone in their journey towards digital transformation. With a focus on enhancing efficiency, improving decision-making, and fostering stakeholder engagement, Infosys is setting a new benchmark for tech companies worldwide. As we look ahead to the future, one thing is clear – artificial intelligence is not just a tool for Infosys; it's a catalyst for change and a beacon of innovation in the ever-evolving tech landscape. So, let's embrace this AI-driven future together and witness the magic of technology unfold before our eyes!\n"
     ]
    }
   ],
   "source": [
    "print(\"######################\")\n",
    "print(result)"
   ]
  }
 ],
 "metadata": {
  "kernelspec": {
   "display_name": "crewaiv2",
   "language": "python",
   "name": "python3"
  },
  "language_info": {
   "codemirror_mode": {
    "name": "ipython",
    "version": 3
   },
   "file_extension": ".py",
   "mimetype": "text/x-python",
   "name": "python",
   "nbconvert_exporter": "python",
   "pygments_lexer": "ipython3",
   "version": "3.10.12"
  }
 },
 "nbformat": 4,
 "nbformat_minor": 2
}
