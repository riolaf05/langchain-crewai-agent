{
 "cells": [
  {
   "cell_type": "code",
   "execution_count": 11,
   "metadata": {},
   "outputs": [],
   "source": [
    "import sys\n",
    "sys.path.append('..')\n",
    "import os"
   ]
  },
  {
   "cell_type": "code",
   "execution_count": 12,
   "metadata": {},
   "outputs": [],
   "source": [
    "from langchain_groq import ChatGroq\n",
    "MODEL_NAME=\"Llama3-8b-8192\"\n",
    "TEMPERATURE=0\n",
    "llm = ChatGroq(\n",
    "   temperature=TEMPERATURE, \n",
    "   model_name=MODEL_NAME\n",
    "   )"
   ]
  },
  {
   "cell_type": "code",
   "execution_count": 14,
   "metadata": {},
   "outputs": [
    {
     "name": "stdout",
     "output_type": "stream",
     "text": [
      "Collection test already exists!\n"
     ]
    }
   ],
   "source": [
    "from utils.database_managers import QDrantDBManager\n",
    "from utils.embedding import EmbeddingFunction\n",
    "\n",
    "GROQ_API_KEY=os.getenv('GROQ_API_KEY')\n",
    "QDRANT_URL=os.getenv('QDRANT_URL')\n",
    "QDRANT_API_KEY=os.getenv('QDRANT_API_KEY')\n",
    "COLLECTION_NAME=os.getenv('COLLECTION_NAME')\n",
    "\n",
    "embedding = EmbeddingFunction('openAI').embedder\n",
    "qdrantClient = QDrantDBManager(\n",
    "    url=QDRANT_URL,\n",
    "    port=6333,\n",
    "    collection_name=COLLECTION_NAME,\n",
    "    vector_size=1536,\n",
    "    embedding=EmbeddingFunction('openAI').embedder,\n",
    "    record_manager_url=\"sqlite:///record_manager_cache.sql\"\n",
    ")"
   ]
  },
  {
   "cell_type": "code",
   "execution_count": 15,
   "metadata": {},
   "outputs": [],
   "source": [
    "vectore_store_client=qdrantClient.vector_store.as_retriever()"
   ]
  },
  {
   "cell_type": "code",
   "execution_count": 21,
   "metadata": {},
   "outputs": [
    {
     "name": "stdout",
     "output_type": "stream",
     "text": [
      "\n",
      "\n",
      "\u001b[1m> Entering new RetrievalQA chain...\u001b[0m\n",
      "\n",
      "\u001b[1m> Finished chain.\u001b[0m\n",
      "According to the article, AI is reshaping IaC (Infrastructure as Code) operations in the following important areas:\n",
      "\n",
      "1. **Automated Code Review**: AI-powered tools are being used to review and analyze IaC code for errors, inconsistencies, and security vulnerabilities, reducing the time and effort required for manual review.\n",
      "2. **Predictive Maintenance**: AI-driven analytics are helping to predict and prevent infrastructure failures by identifying potential issues before they occur, reducing downtime and improving overall system reliability.\n",
      "3. **Resource Optimization**: AI is being used to optimize resource allocation and utilization, ensuring that infrastructure resources are used efficiently and effectively, and reducing waste.\n",
      "4. **Compliance and Governance**: AI-powered tools are helping to ensure compliance with regulatory requirements and industry standards by automating the detection and remediation of security and compliance issues.\n",
      "5. **DevOps Automation**: AI is being used to automate repetitive and time-consuming tasks in DevOps workflows, such as testing, deployment, and monitoring, freeing up developers to focus on higher-value tasks.\n",
      "\n",
      "These are just a few examples of how AI is reshaping IaC operations. As the technology continues to evolve, we can expect to see even more innovative applications of AI in this space.\n"
     ]
    }
   ],
   "source": [
    "from langchain.chains import RetrievalQA\n",
    "chain=RetrievalQA.from_chain_type(\n",
    "                        llm=llm,\n",
    "                        chain_type=\"stuff\",\n",
    "                        # callbacks=[handler],\n",
    "                        retriever=vectore_store_client,\n",
    "                        verbose=True, \n",
    "                        return_source_documents=True,\n",
    "                        )\n",
    "\n",
    "res=chain.invoke({\"query\": \"tell me some important areas where AI is reshaping IaC operations\"})\n",
    "print(res[\"result\"])"
   ]
  },
  {
   "cell_type": "code",
   "execution_count": 22,
   "metadata": {},
   "outputs": [
    {
     "data": {
      "text/plain": [
       "[Document(metadata={'authors': ['Sep.'], 'description': 'This article explores some important areas where AI is reshaping IaC operations and discusses what the future may hold.', 'feed': 'https://feeds.dzone.com/ai-ml', 'language': 'en', 'link': 'https://feeds.dzone.com/link/23558/16793087/supercharging-iac-with-ai', 'publish_date': None, 'source': 'rss_feed', 'title': 'Supercharging IaC With AI: Next-Gen Infrastructure', '_id': '44871703-26ae-5ed1-952d-f59bcaeaa382', '_collection_name': 'test'}, page_content='This article explores some important areas where AI is reshaping IaC operations and discusses what the future may hold.'),\n",
       " Document(metadata={'page': 61, 'source': '/tmp/upload/0c32753d-b99a-4de8-aac7-0fbcf159ec04.pdf', '_id': '71bc4e1d-2490-5763-acfd-455b692a10a9', '_collection_name': 'test'}, page_content='')]"
      ]
     },
     "execution_count": 22,
     "metadata": {},
     "output_type": "execute_result"
    }
   ],
   "source": [
    "res['source_documents']"
   ]
  },
  {
   "cell_type": "code",
   "execution_count": null,
   "metadata": {},
   "outputs": [],
   "source": []
  }
 ],
 "metadata": {
  "kernelspec": {
   "display_name": "crewai",
   "language": "python",
   "name": "python3"
  },
  "language_info": {
   "codemirror_mode": {
    "name": "ipython",
    "version": 3
   },
   "file_extension": ".py",
   "mimetype": "text/x-python",
   "name": "python",
   "nbconvert_exporter": "python",
   "pygments_lexer": "ipython3",
   "version": "3.10.12"
  }
 },
 "nbformat": 4,
 "nbformat_minor": 2
}
